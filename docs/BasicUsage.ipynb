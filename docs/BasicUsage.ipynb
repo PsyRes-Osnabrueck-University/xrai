{
 "cells": [
  {
   "cell_type": "markdown",
   "metadata": {},
   "source": [
    "## Project descriptions\n",
    "**X-RAI (eXplanable Regression-based Artificial Intelligence)** is a package for the integration of regression-based machine-learning and eXplainable AI via the SHAP-package. X-RAI allows the prediction of a target variable via several ML algorithms from scikit-learn (Lasso, Elastic Net, Random Forest, Support Vector Regression, XGBoost, and a Support Vector Regression meta-learner). Algorithm selection is conducted via nested cross-validation.\n",
    "\n",
    "Specifications can be selected regarding the internal and external folds, the selected algorithms and the use of feature selection via featureWiz. The cross-validation scheme can be safed for reproductibility. SHAP allows the estimation of feature importance both for individual predictions, as well as across the whole dataset.   \n",
    "\n"
   ]
  },
  {
   "cell_type": "markdown",
   "metadata": {},
   "source": [
    "The code is divided into 2 classes"
   ]
  },
  {
   "cell_type": "code",
   "execution_count": null,
   "metadata": {},
   "outputs": [],
   "source": [
    "from xrai import Transform\n",
    "from xrai import Preparation\n",
    "\n",
    "# file_path = \"path/to/your/excel/file.xlsx\"\n",
    "# summer = ExcelColumnSummer(file_path)\n",
    "# column_sums = summer.sum_columns()\n",
    "# print(column_sums)\n",
    "\n",
    "preparation = Preparation(base_path=\"/mnt/DATA/ACAD/KPP_HiWi/\",\n",
    "                                        #   base_path=os.getcwd(),\n",
    "                                          file_name=\"distortions_final.xlsx\",\n",
    "                                          outcome=None,\n",
    "                                          outcome_list=[],\n",
    "                                          classed_splits=False,\n",
    "                                          outcome_to_features=[],\n",
    "                                          test_sets=10,\n",
    "                                          val_sets=5)\n",
    "transformer = Transform(dataPrepared=preparation)\n",
    "transformer.gen_plots()"
   ]
  }
 ],
 "metadata": {
  "kernelspec": {
   "display_name": ".kpp",
   "language": "python",
   "name": "python3"
  },
  "language_info": {
   "codemirror_mode": {
    "name": "ipython",
    "version": 3
   },
   "file_extension": ".py",
   "mimetype": "text/x-python",
   "name": "python",
   "nbconvert_exporter": "python",
   "pygments_lexer": "ipython3",
   "version": "3.12.7"
  }
 },
 "nbformat": 4,
 "nbformat_minor": 2
}
